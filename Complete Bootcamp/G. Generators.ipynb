{
 "cells": [
  {
   "cell_type": "code",
   "execution_count": 1,
   "metadata": {},
   "outputs": [
    {
     "name": "stdout",
     "output_type": "stream",
     "text": [
      "0\n",
      "1\n",
      "8\n",
      "27\n",
      "64\n",
      "125\n",
      "216\n",
      "343\n",
      "512\n",
      "729\n",
      "********************************************************************************\n",
      "1\t1\t2\t3\t5\t8\t13\t21\t34\t55\t\n",
      "\n",
      "0\n",
      "1\n",
      "R\n"
     ]
    }
   ],
   "source": [
    "# send a val and pick up later at the same\n",
    "# dont return a val and exit\n",
    "\n",
    "def genCubes(n):\n",
    "    for num in range(n):\n",
    "        yield num ** 3\n",
    "\n",
    "\n",
    "for x in genCubes(10):\n",
    "    print(x)\n",
    "print(\"********************************************************************************\")\n",
    "\n",
    "\n",
    "def genFibon(n):\n",
    "    a = b = 1\n",
    "    for i in range(n):\n",
    "        yield a\n",
    "        # t=a\n",
    "        # a=b\n",
    "        # b=t+b\n",
    "        a, b = b, a + b\n",
    "\n",
    "\n",
    "for num in genFibon(10):\n",
    "    print(num, end=\"\\t\")\n",
    "\n",
    "print(\"\\n\")\n",
    "\n",
    "\n",
    "def nextSimple():\n",
    "    for i in range(5):\n",
    "        yield i\n",
    "\n",
    "\n",
    "ss = nextSimple()\n",
    "print(next(ss))\n",
    "print(next(ss))\n",
    "\n",
    "s = \"Ravi is my nme\"\n",
    "s_iter = iter(s)\n",
    "print(next(s_iter))\n"
   ]
  },
  {
   "cell_type": "code",
   "execution_count": null,
   "metadata": {},
   "outputs": [],
   "source": []
  }
 ],
 "metadata": {
  "kernelspec": {
   "display_name": "Python 3",
   "language": "python",
   "name": "python3"
  },
  "language_info": {
   "codemirror_mode": {
    "name": "ipython",
    "version": 3
   },
   "file_extension": ".py",
   "mimetype": "text/x-python",
   "name": "python",
   "nbconvert_exporter": "python",
   "pygments_lexer": "ipython3",
   "version": "3.6.6"
  }
 },
 "nbformat": 4,
 "nbformat_minor": 2
}
