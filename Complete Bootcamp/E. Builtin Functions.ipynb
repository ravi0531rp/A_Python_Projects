{
 "cells": [
  {
   "cell_type": "code",
   "execution_count": 1,
   "metadata": {},
   "outputs": [
    {
     "name": "stdout",
     "output_type": "stream",
     "text": [
      "8 88 2345\n",
      "8 88 2345\n"
     ]
    }
   ],
   "source": [
    "def peak(a):\n",
    "    return max(a)\n",
    "\n",
    "print(*list(map(peak,[[2,3,4,6,8,1,3],[2,5,8,9,6,88,4],[23,45,67,89,2345,34]])))\n",
    "\n",
    "print(*list(map(lambda T:max(T),[[2,3,4,6,8,1,3],[2,5,8,9,6,88,4],[23,45,67,89,2345,34]])))"
   ]
  },
  {
   "cell_type": "code",
   "execution_count": 2,
   "metadata": {},
   "outputs": [
    {
     "name": "stdout",
     "output_type": "stream",
     "text": [
      "47\n"
     ]
    }
   ],
   "source": [
    "from functools import reduce\n",
    "\n",
    "# continually applies the func to the sequence\n",
    "# seq=[s1,s2,s3,s4,s5]\n",
    "# Then if we apply reduce(fn,seq)\n",
    "# In step 1 :- [fn(s1,s2),s3,s4,s5]\n",
    "# In step 2 :- [fn(fn(s1,s2),s3),s4,s5]\n",
    "# and continue\n",
    "\n",
    "lst = [47, 11, 42, 13]\n",
    "\n",
    "print(reduce(lambda x, y: max(x, y), lst))\n"
   ]
  },
  {
   "cell_type": "code",
   "execution_count": 3,
   "metadata": {},
   "outputs": [
    {
     "name": "stdout",
     "output_type": "stream",
     "text": [
      "54 66 26 8 22 40 58 64 78 52 24\n"
     ]
    }
   ],
   "source": [
    "# fun should return a true or false\n",
    "# if fn ret true, iterable included\n",
    "import math\n",
    "import random\n",
    "\n",
    "\n",
    "def Ev(x):\n",
    "    return x % 2 == 0\n",
    "\n",
    "\n",
    "lst = random.sample(range(100),20)\n",
    "print(*list(filter(Ev, lst)))\n"
   ]
  },
  {
   "cell_type": "code",
   "execution_count": 4,
   "metadata": {},
   "outputs": [
    {
     "name": "stdout",
     "output_type": "stream",
     "text": [
      "[(1, 3), (4, 5), (6, 6), (8, 3)]\n",
      "2\n",
      "2\n",
      "10\n",
      "4\n",
      "5\n",
      "2 2 10 4 5\n",
      "[2, 2, 10, 4, 5]\n",
      "[('a', 'v'), ('b', 'r'), ('f', 'f')]\n"
     ]
    },
    {
     "ename": "AttributeError",
     "evalue": "'dict' object has no attribute 'itervalues'",
     "output_type": "error",
     "traceback": [
      "\u001b[1;31m---------------------------------------------------------------------------\u001b[0m",
      "\u001b[1;31mAttributeError\u001b[0m                            Traceback (most recent call last)",
      "\u001b[1;32m<ipython-input-4-322228d637d6>\u001b[0m in \u001b[0;36m<module>\u001b[1;34m()\u001b[0m\n\u001b[0;32m     17\u001b[0m \u001b[0mm\u001b[0m \u001b[1;33m=\u001b[0m \u001b[1;33m{\u001b[0m\u001b[1;34m'v'\u001b[0m\u001b[1;33m:\u001b[0m \u001b[1;36m2\u001b[0m\u001b[1;33m,\u001b[0m \u001b[1;34m'r'\u001b[0m\u001b[1;33m:\u001b[0m \u001b[1;36m4\u001b[0m\u001b[1;33m,\u001b[0m \u001b[1;34m'f'\u001b[0m\u001b[1;33m:\u001b[0m \u001b[1;36m5\u001b[0m\u001b[1;33m}\u001b[0m\u001b[1;33m\u001b[0m\u001b[0m\n\u001b[0;32m     18\u001b[0m \u001b[0mprint\u001b[0m\u001b[1;33m(\u001b[0m\u001b[0mlist\u001b[0m\u001b[1;33m(\u001b[0m\u001b[0mzip\u001b[0m\u001b[1;33m(\u001b[0m\u001b[0md\u001b[0m\u001b[1;33m,\u001b[0m\u001b[0mm\u001b[0m\u001b[1;33m)\u001b[0m\u001b[1;33m)\u001b[0m\u001b[1;33m)\u001b[0m\u001b[1;33m\u001b[0m\u001b[0m\n\u001b[1;32m---> 19\u001b[1;33m \u001b[0mprint\u001b[0m\u001b[1;33m(\u001b[0m\u001b[0mlist\u001b[0m\u001b[1;33m(\u001b[0m\u001b[0mzip\u001b[0m\u001b[1;33m(\u001b[0m\u001b[0md\u001b[0m\u001b[1;33m,\u001b[0m\u001b[0mm\u001b[0m\u001b[1;33m.\u001b[0m\u001b[0mitervalues\u001b[0m\u001b[1;33m(\u001b[0m\u001b[1;33m)\u001b[0m\u001b[1;33m)\u001b[0m\u001b[1;33m)\u001b[0m\u001b[1;33m)\u001b[0m\u001b[1;33m\u001b[0m\u001b[0m\n\u001b[0m",
      "\u001b[1;31mAttributeError\u001b[0m: 'dict' object has no attribute 'itervalues'"
     ]
    }
   ],
   "source": [
    "import itertools\n",
    "x = [1, 4, 6, 8, 0]\n",
    "y = [3, 5, 6, 3]\n",
    "print(list(zip(x, y)))\n",
    "\n",
    "a = [1, 2, 3, 4, 5]\n",
    "b = [2, 2, 10, 1, 1]\n",
    "for pair in zip(a, b):\n",
    "    print(max(pair))\n",
    "\n",
    "lst = [max(x) for x in zip(a, b)]\n",
    "print(*lst)\n",
    "\n",
    "print(list(map(lambda pa: max(pa), zip(a, b))))\n",
    "\n",
    "d = {'a': 2, 'b': 4, 'f': 5}\n",
    "m = {'v': 2, 'r': 4, 'f': 5}\n",
    "print(list(zip(d,m)))\n",
    "print(list(zip(d,m.itervalues())))\n"
   ]
  },
  {
   "cell_type": "code",
   "execution_count": 5,
   "metadata": {},
   "outputs": [
    {
     "name": "stdout",
     "output_type": "stream",
     "text": [
      "0   a\n",
      "1   b\n",
      "2   c\n",
      "3   d\n",
      "4   e\n"
     ]
    }
   ],
   "source": [
    "l=['a','b','c','d','e']\n",
    "for count,item in enumerate(l):\n",
    "    print(count,\" \",item)"
   ]
  },
  {
   "cell_type": "code",
   "execution_count": 6,
   "metadata": {},
   "outputs": [
    {
     "name": "stdout",
     "output_type": "stream",
     "text": [
      "False\n",
      "True\n"
     ]
    }
   ],
   "source": [
    "l = [1, 5, 3, 7, 6, 4, 9]\n",
    "t = [True, True, False]\n",
    "print(all(t))\n",
    "print(any(t))\n"
   ]
  },
  {
   "cell_type": "code",
   "execution_count": 7,
   "metadata": {},
   "outputs": [
    {
     "name": "stdout",
     "output_type": "stream",
     "text": [
      "(2+4j)\n"
     ]
    }
   ],
   "source": [
    "import cmath\n",
    "print(complex(2,4))"
   ]
  },
  {
   "cell_type": "code",
   "execution_count": 8,
   "metadata": {},
   "outputs": [
    {
     "name": "stdout",
     "output_type": "stream",
     "text": [
      "157\n",
      "{'Name': 'Ravi', 'Age': 20, 'Branch': 'ECE'}\n",
      "{'Name': 'Ravi', 'Age': 20, 'Branch': 'ECE', 'Sports': 'Football'}\n",
      "Google () {}\n"
     ]
    }
   ],
   "source": [
    "def add(*args):\n",
    "    return sum(args)\n",
    "print(add(23,56,78))\n",
    "\n",
    "\n",
    "def record(**kwargs):\n",
    "    print(kwargs)\n",
    "\n",
    "record(Name=\"Ravi\",Age=20,Branch=\"ECE\")\n",
    "record(Name=\"Ravi\",Age=20,Branch=\"ECE\",Sports=\"Football\")\n",
    "\n",
    "def get_data(engine,*queries,**props):\n",
    "    print(engine,queries,props)\n",
    "\n",
    "get_data(\"Google\")"
   ]
  },
  {
   "cell_type": "code",
   "execution_count": null,
   "metadata": {},
   "outputs": [],
   "source": []
  }
 ],
 "metadata": {
  "kernelspec": {
   "display_name": "Python 3",
   "language": "python",
   "name": "python3"
  },
  "language_info": {
   "codemirror_mode": {
    "name": "ipython",
    "version": 3
   },
   "file_extension": ".py",
   "mimetype": "text/x-python",
   "name": "python",
   "nbconvert_exporter": "python",
   "pygments_lexer": "ipython3",
   "version": "3.6.6"
  }
 },
 "nbformat": 4,
 "nbformat_minor": 2
}
