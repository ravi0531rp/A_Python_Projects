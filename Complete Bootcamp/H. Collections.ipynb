{
 "cells": [
  {
   "cell_type": "code",
   "execution_count": 1,
   "metadata": {},
   "outputs": [
    {
     "name": "stdout",
     "output_type": "stream",
     "text": [
      "Counter({7: 6, 2: 4, 5: 3, 8: 3, 9: 3, 3: 2, 4: 2, 6: 2, 1: 1})\n",
      "Counter({'How': 2, 'many': 2, 'times': 2, 'does': 2, 'each': 2, 'word': 2, 'show': 2, 'up': 2, 'in': 2, 'the': 2, 'string': 2, 'and': 1})\n",
      "[('How', 2), ('many', 2), ('times', 2)]\n",
      "23\n",
      "[('and', 1)]\n"
     ]
    }
   ],
   "source": [
    "from collections import Counter\n",
    "import random\n",
    "\n",
    "l = [1, 2, 3, 4, 2, 2, 2, 3, 4, 5, 5, 6, 5, 6, 7, 8, 9, 9, 9, 8, 8, 7, 7, 7, 7, 7]\n",
    "print(Counter(l))\n",
    "s = \"How many times does each word show up in the string and How many times does each word show up in the string\"\n",
    "aa = (Counter(s.split()))\n",
    "print(aa)\n",
    "print(aa.most_common(3))\n",
    "print(sum(aa.values()))\n",
    "print(aa.most_common()[:-1-1:-1])"
   ]
  },
  {
   "cell_type": "code",
   "execution_count": 2,
   "metadata": {},
   "outputs": [
    {
     "name": "stdout",
     "output_type": "stream",
     "text": [
      "<object object at 0x000002308CE4DC10>\n",
      "0\n"
     ]
    }
   ],
   "source": [
    "from collections import defaultdict\n",
    "\n",
    "d = defaultdict(object)\n",
    "print(d['one'])\n",
    "e = defaultdict(lambda: 0)\n",
    "print(e['oo'])\n"
   ]
  },
  {
   "cell_type": "code",
   "execution_count": 3,
   "metadata": {},
   "outputs": [
    {
     "name": "stdout",
     "output_type": "stream",
     "text": [
      "a 12\n",
      "b 13\n",
      "f 15\n",
      "e 19\n",
      "d 10\n",
      "c 11\n"
     ]
    }
   ],
   "source": [
    "from collections import OrderedDict\n",
    "\n",
    "d = OrderedDict()\n",
    "d['a'] = 12\n",
    "d['b'] = 13\n",
    "d['f'] = 15\n",
    "d['e'] = 19\n",
    "d['d'] = 10\n",
    "d['c'] = 11\n",
    "\n",
    "for k, v in d.items():\n",
    "    print(k, v)\n"
   ]
  },
  {
   "cell_type": "code",
   "execution_count": 4,
   "metadata": {},
   "outputs": [
    {
     "name": "stdout",
     "output_type": "stream",
     "text": [
      "1\n",
      "Dog(age=2, breed='BBa', name='Da')\n",
      "2\n",
      "2\n"
     ]
    }
   ],
   "source": [
    "t = (1, 2, 4, 5)\n",
    "print(t[0])\n",
    "from collections import namedtuple\n",
    "\n",
    "Dog = namedtuple('Dog', 'age breed name')\n",
    "sam = Dog(age=2, breed=\"BBa\", name=\"Da\")\n",
    "print(sam)\n",
    "print(sam.age)\n",
    "print(sam[0])"
   ]
  },
  {
   "cell_type": "code",
   "execution_count": null,
   "metadata": {},
   "outputs": [],
   "source": []
  }
 ],
 "metadata": {
  "kernelspec": {
   "display_name": "Python 3",
   "language": "python",
   "name": "python3"
  },
  "language_info": {
   "codemirror_mode": {
    "name": "ipython",
    "version": 3
   },
   "file_extension": ".py",
   "mimetype": "text/x-python",
   "name": "python",
   "nbconvert_exporter": "python",
   "pygments_lexer": "ipython3",
   "version": "3.6.6"
  }
 },
 "nbformat": 4,
 "nbformat_minor": 2
}
