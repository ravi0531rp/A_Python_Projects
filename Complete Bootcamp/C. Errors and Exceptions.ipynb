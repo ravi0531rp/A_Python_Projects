{
 "cells": [
  {
   "cell_type": "code",
   "execution_count": 1,
   "metadata": {},
   "outputs": [
    {
     "name": "stdout",
     "output_type": "stream",
     "text": [
      "unsupported operand type(s) for +: 'int' and 'str'\n",
      "finally we print this\n",
      "File Write done\n",
      "Please input an integer3\n",
      "KAam ho gaya\n",
      "3\n",
      "5\n"
     ]
    }
   ],
   "source": [
    "\"\"\"\n",
    "try:\n",
    "    do this\n",
    "except exception1:\n",
    "    do this\n",
    "except exception2:\n",
    "    do this\n",
    "else:\n",
    "    do this\n",
    "\n",
    "\n",
    "\"\"\"\n",
    "\n",
    "try:\n",
    "    a = 2 + 's'\n",
    "except TypeError as tp:\n",
    "    print(tp)\n",
    "finally:\n",
    "    print(\"finally we print this\")\n",
    "\n",
    "try:\n",
    "    f = open('tess', 'w')\n",
    "    f.write('File is written')\n",
    "except:\n",
    "    print(\"Shit\")\n",
    "else:\n",
    "    print(\"File Write done\")\n",
    "\n",
    "\n",
    "def askInt():\n",
    "    global val\n",
    "\n",
    "    try:\n",
    "        val = int(input(\"Please input an integer\"))\n",
    "    except:\n",
    "        print(\"NAAAAAA try again\")\n",
    "        val=int(input(\"Please input an integer\"))\n",
    "    finally:\n",
    "        print(\"KAam ho gaya\")\n",
    "    print(val)\n",
    "\n",
    "\n",
    "askInt()\n",
    "b = int(input())\n"
   ]
  },
  {
   "cell_type": "code",
   "execution_count": null,
   "metadata": {},
   "outputs": [],
   "source": []
  }
 ],
 "metadata": {
  "kernelspec": {
   "display_name": "Python 3",
   "language": "python",
   "name": "python3"
  },
  "language_info": {
   "codemirror_mode": {
    "name": "ipython",
    "version": 3
   },
   "file_extension": ".py",
   "mimetype": "text/x-python",
   "name": "python",
   "nbconvert_exporter": "python",
   "pygments_lexer": "ipython3",
   "version": "3.6.6"
  }
 },
 "nbformat": 4,
 "nbformat_minor": 2
}
