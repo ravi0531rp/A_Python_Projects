{
 "cells": [
  {
   "cell_type": "code",
   "execution_count": 1,
   "metadata": {},
   "outputs": [
    {
     "name": "stdout",
     "output_type": "stream",
     "text": [
      "02:03:05\n",
      "2\n",
      "3\n",
      "5\n",
      "23:59:59.999999\n",
      "0:00:00.000001\n",
      "00:00:00\n",
      "23:59:59.999999\n",
      "2018-09-14\n",
      "[2018, 9, 14, 0, 0, 0, 4, 257, -1]\n",
      "9\n",
      "2000-08-08\n",
      "5478 days, 0:00:00\n"
     ]
    }
   ],
   "source": [
    "import datetime\n",
    "\n",
    "t = datetime.time(2, 3, 5)\n",
    "print(t)\n",
    "print(t.hour)\n",
    "print(t.minute)\n",
    "print(t.second)\n",
    "print(t.max)\n",
    "print(t.resolution)\n",
    "print(datetime.time.min)\n",
    "print(datetime.time.max)\n",
    "td = datetime.date.today()\n",
    "print(td)\n",
    "print(list(td.timetuple()))\n",
    "print(td.month)\n",
    "d1=datetime.date(2015,8,8)\n",
    "d2=d1.replace(2000)\n",
    "print(d2)\n",
    "print(d1-d2)"
   ]
  },
  {
   "cell_type": "code",
   "execution_count": 2,
   "metadata": {},
   "outputs": [
    {
     "name": "stdout",
     "output_type": "stream",
     "text": [
      "0.25220752760683846\n"
     ]
    }
   ],
   "source": [
    "import timeit\n",
    "'0-1-2-3-....-99'\n",
    "print(timeit.timeit('\"-\".join(str(n) for n in range(100))',number=10000))"
   ]
  },
  {
   "cell_type": "code",
   "execution_count": null,
   "metadata": {},
   "outputs": [],
   "source": []
  }
 ],
 "metadata": {
  "kernelspec": {
   "display_name": "Python 3",
   "language": "python",
   "name": "python3"
  },
  "language_info": {
   "codemirror_mode": {
    "name": "ipython",
    "version": 3
   },
   "file_extension": ".py",
   "mimetype": "text/x-python",
   "name": "python",
   "nbconvert_exporter": "python",
   "pygments_lexer": "ipython3",
   "version": "3.6.6"
  }
 },
 "nbformat": 4,
 "nbformat_minor": 2
}
