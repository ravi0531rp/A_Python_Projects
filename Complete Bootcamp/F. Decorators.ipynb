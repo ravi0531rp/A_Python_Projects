{
 "cells": [
  {
   "cell_type": "code",
   "execution_count": 1,
   "metadata": {},
   "outputs": [
    {
     "name": "stdout",
     "output_type": "stream",
     "text": [
      "1\n",
      "{}\n",
      "hello Ravi\n",
      "hello Ravi\n"
     ]
    }
   ],
   "source": [
    "def func():\n",
    "    return 1\n",
    "\n",
    "\n",
    "print(func())\n",
    "s = \"This is a global var\"\n",
    "\n",
    "\n",
    "def func():\n",
    "    print(locals())\n",
    "\n",
    "\n",
    "func()\n",
    "\n",
    "\n",
    "def hello(name=\"Ravi\"):\n",
    "    return \"hello \" + name\n",
    "\n",
    "\n",
    "greet = hello\n",
    "print(greet())\n",
    "\n",
    "del hello\n",
    "print(greet())  # greet still exists\n",
    "\n"
   ]
  },
  {
   "cell_type": "code",
   "execution_count": 2,
   "metadata": {},
   "outputs": [
    {
     "name": "stdout",
     "output_type": "stream",
     "text": [
      "\t This is inside the greet() fn\n"
     ]
    }
   ],
   "source": [
    "'''\n",
    "def hello(name=\"Ravi\"):\n",
    "    print(\"Hello fn has been executed\")\n",
    "\n",
    "    def greet():\n",
    "        return '\\t This is inside the greet() fn'\n",
    "\n",
    "    def welcome():\n",
    "        return '\\t This is the welcome()'\n",
    "\n",
    "    print(greet())\n",
    "    print(welcome())\n",
    "    print(\"we are back in hello\")\n",
    "\n",
    "\n",
    "hello()\n",
    "\n",
    "'''\n",
    "\n",
    "\n",
    "def hello(name=\"Ravi\"):\n",
    "    def greet():\n",
    "        return '\\t This is inside the greet() fn'\n",
    "\n",
    "    def welcome():\n",
    "        return '\\t This is the welcome()'\n",
    "\n",
    "    if name == \"Ravi\":\n",
    "        return greet  # we are returning functions not the results\n",
    "    else:\n",
    "        return welcome\n",
    "\n",
    "\n",
    "x = hello()\n",
    "print(x())\n"
   ]
  },
  {
   "cell_type": "code",
   "execution_count": 3,
   "metadata": {},
   "outputs": [
    {
     "name": "stdout",
     "output_type": "stream",
     "text": [
      "Other func goes here\n",
      "Hi Ravi !!\n",
      "Code here before executing the func\n",
      "This func needs a decorator\n",
      "Code here after executing the func()\n"
     ]
    }
   ],
   "source": [
    "def hello():\n",
    "    return \"Hi Ravi !!\"\n",
    "\n",
    "\n",
    "def other(func):\n",
    "    print(\"Other func goes here\")\n",
    "    print(func())\n",
    "\n",
    "\n",
    "other(hello)\n",
    "\n",
    "\n",
    "def new_decorator(func):\n",
    "    def wrap_func():\n",
    "        print(\"Code here before executing the func\")\n",
    "        func()\n",
    "        print(\"Code here after executing the func()\")\n",
    "\n",
    "    return wrap_func\n",
    "\n",
    "\n",
    "\n",
    "'''\n",
    "def func_needs_decorator():\n",
    "    print(\"This func needs a decorator\")\n",
    "func_needs_decorator = new_decorator(func_needs_decorator)  # one way\n",
    "func_needs_decorator()\n",
    "'''\n",
    "# other way of doing\n",
    "@new_decorator\n",
    "def func_needs_decorator():\n",
    "    print(\"This func needs a decorator\")\n",
    "\n",
    "func_needs_decorator()\n"
   ]
  },
  {
   "cell_type": "code",
   "execution_count": null,
   "metadata": {},
   "outputs": [],
   "source": []
  }
 ],
 "metadata": {
  "kernelspec": {
   "display_name": "Python 3",
   "language": "python",
   "name": "python3"
  },
  "language_info": {
   "codemirror_mode": {
    "name": "ipython",
    "version": 3
   },
   "file_extension": ".py",
   "mimetype": "text/x-python",
   "name": "python",
   "nbconvert_exporter": "python",
   "pygments_lexer": "ipython3",
   "version": "3.6.6"
  }
 },
 "nbformat": 4,
 "nbformat_minor": 2
}
