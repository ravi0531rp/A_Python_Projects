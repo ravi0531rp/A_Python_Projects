{
 "cells": [
  {
   "cell_type": "code",
   "execution_count": 1,
   "metadata": {},
   "outputs": [
    {
     "name": "stdout",
     "output_type": "stream",
     "text": [
      "2\n"
     ]
    }
   ],
   "source": [
    "l = [1, 3, 4, 5, 1, 77]\n",
    "print(l.count(1))\n"
   ]
  },
  {
   "cell_type": "code",
   "execution_count": 2,
   "metadata": {},
   "outputs": [
    {
     "name": "stdout",
     "output_type": "stream",
     "text": [
      "11.0\n"
     ]
    }
   ],
   "source": [
    "def xyz(ob):\n",
    "    \"\"\"\n",
    "    This is a function docstring\n",
    "    :param ob:\n",
    "    :return:\n",
    "    \"\"\"\n",
    "    return ob/2\n",
    "\n",
    "print(xyz(22))"
   ]
  },
  {
   "cell_type": "code",
   "execution_count": 3,
   "metadata": {},
   "outputs": [
    {
     "name": "stdout",
     "output_type": "stream",
     "text": [
      "9\n",
      "False\n",
      "R\n",
      "olleH\n",
      "6\n"
     ]
    }
   ],
   "source": [
    "# make adhoc functions\n",
    "a = lambda num: num ** 2\n",
    "print(a(3))\n",
    "even = lambda x: x % 2 == 0\n",
    "print(even(45))\n",
    "first = lambda s: s[0]\n",
    "print(first(\"Ravi Prakash\"))\n",
    "rev=lambda x:x[::-1]\n",
    "print(rev('Hello'))\n",
    "add=lambda x,y:x+y\n",
    "print(add(2,4))"
   ]
  },
  {
   "cell_type": "code",
   "execution_count": 4,
   "metadata": {},
   "outputs": [
    {
     "name": "stdout",
     "output_type": "stream",
     "text": [
      "50\n",
      "440\n"
     ]
    },
    {
     "data": {
      "text/plain": [
       "'\\nScopes are\\n1) Local\\n2) Global\\n3)Enclosing\\n4)Builtin\\n'"
      ]
     },
     "execution_count": 4,
     "metadata": {},
     "output_type": "execute_result"
    }
   ],
   "source": [
    "x=50\n",
    "def dd():\n",
    "    x=440\n",
    "    return x\n",
    "print(x)\n",
    "print(dd())\n",
    "\n",
    "\"\"\"\n",
    "Scopes are\n",
    "1) Local\n",
    "2) Global\n",
    "3)Enclosing\n",
    "4)Builtin\n",
    "\"\"\""
   ]
  },
  {
   "cell_type": "code",
   "execution_count": null,
   "metadata": {},
   "outputs": [],
   "source": []
  }
 ],
 "metadata": {
  "kernelspec": {
   "display_name": "Python 3",
   "language": "python",
   "name": "python3"
  },
  "language_info": {
   "codemirror_mode": {
    "name": "ipython",
    "version": 3
   },
   "file_extension": ".py",
   "mimetype": "text/x-python",
   "name": "python",
   "nbconvert_exporter": "python",
   "pygments_lexer": "ipython3",
   "version": "3.6.6"
  }
 },
 "nbformat": 4,
 "nbformat_minor": 2
}
