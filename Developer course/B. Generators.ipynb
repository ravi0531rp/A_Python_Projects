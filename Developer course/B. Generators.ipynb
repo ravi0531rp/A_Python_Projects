{
 "cells": [
  {
   "cell_type": "code",
   "execution_count": null,
   "metadata": {},
   "outputs": [],
   "source": [
    "import sys\n",
    "\n",
    "\n",
    "# big_range = range(10)  # eg of generators\n",
    "\n",
    "def my_range(n: int):\n",
    "    print(\"my_range begins here\")\n",
    "    start = 0\n",
    "    while start < n:\n",
    "        print(\"Start's {0} value is {1} \".format(start, start))\n",
    "        yield start\n",
    "        start += 1\n",
    "\n",
    "\n",
    "\n",
    "big_range = my_range(10)\n",
    "\n",
    "_ = input(\"line 18\")  # just for inspection\n",
    "print(next(big_range))\n",
    "\n",
    "print(\" big range  is {} bytes\".format(sys.getsizeof(big_range)))\n",
    "\n",
    "print(\"----------------------------------------------------------------\")\n",
    "big_list = []\n",
    "for val in big_range:  # the for loop is only calling the next value\n",
    "    _ = input(\"line 24 inside loop\")\n",
    "    big_list.append(val)\n",
    "\n",
    "print(\"big list is {} bytes\".format(sys.getsizeof(big_list)))\n",
    "\n",
    "# both the iterators do the same, bur big list consumes more space\n",
    "print(\"looping again or not\")\n",
    "for i in big_range: # wont work as it is already exhausted\n",
    "    print(i)"
   ]
  },
  {
   "cell_type": "code",
   "execution_count": null,
   "metadata": {},
   "outputs": [],
   "source": [
    "def fibonacci():\n",
    "    current, previous = 0, 1\n",
    "    while True:\n",
    "        current, previous = current + previous, current\n",
    "        yield current\n",
    "\n",
    "\n",
    "fib = fibonacci()\n",
    "for _ in range(21):\n",
    "    print(next(fib))\n"
   ]
  },
  {
   "cell_type": "code",
   "execution_count": null,
   "metadata": {},
   "outputs": [],
   "source": []
  }
 ],
 "metadata": {
  "kernelspec": {
   "display_name": "Python 3",
   "language": "python",
   "name": "python3"
  },
  "language_info": {
   "codemirror_mode": {
    "name": "ipython",
    "version": 3
   },
   "file_extension": ".py",
   "mimetype": "text/x-python",
   "name": "python",
   "nbconvert_exporter": "python",
   "pygments_lexer": "ipython3",
   "version": "3.6.6"
  }
 },
 "nbformat": 4,
 "nbformat_minor": 2
}
