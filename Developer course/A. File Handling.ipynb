{
 "cells": [
  {
   "cell_type": "code",
   "execution_count": 1,
   "metadata": {},
   "outputs": [
    {
     "name": "stdout",
     "output_type": "stream",
     "text": [
      "b'\\x00\\x01\\x02\\x03\\x04\\x05\\x06\\x07\\x08\\t\\n'\n",
      "b'\\x0b\\x0c\\r\\x0e\\x0f\\x10'\n"
     ]
    }
   ],
   "source": [
    "with open(\"binary\",'bw') as bin_file:\n",
    "    for i in range(17):\n",
    "        bin_file.write(bytes([i]))\n",
    "\n",
    "\n",
    "with open(\"binary\",'br') as bin_file:\n",
    "    for b in bin_file:\n",
    "        print(b)"
   ]
  },
  {
   "cell_type": "code",
   "execution_count": 2,
   "metadata": {},
   "outputs": [],
   "source": [
    "with open(\"challenge1.txt\",'w') as chal: # use 'a' for appending\n",
    "    for i in range(2,13):\n",
    "        for j in range(1,11):\n",
    "            print(\"{1:>2} times {0} is {2}\".format(j, i, i*j), file=chal)\n",
    "        print(\"----------------\"*6,file=chal)\n"
   ]
  },
  {
   "cell_type": "code",
   "execution_count": 3,
   "metadata": {},
   "outputs": [
    {
     "name": "stdout",
     "output_type": "stream",
     "text": [
      "['a', 'b', 'hi']\n",
      "---------------------------------------------\n",
      "['orange', 'apple', 'banana']\n",
      "---------------------------------------------\n",
      "{'orange': 'sour in taste', 'apple': 'red in color', 'banana': 'energy source', 'tomato': 'red red red'}\n",
      "---------------------------------------------\n",
      "[('orange', 'sour in taste'), ('apple', 'red in color'), ('banana', 'energy source'), ('tomato', 'red red red')]\n",
      "---------------------------------------------\n",
      "a_b_c\n",
      "---------------------------------------------\n",
      "{'orange': 'sour in taste', 'apple': 'red in color', 'banana': 'energy source', 'tomato': 'red red red', 'cabbage': 'green ', 'cauli flower': 'good veg '}\n",
      "---------------------------------------------\n",
      "{'orange': 'sour in taste', 'apple': 'red in color', 'banana': 'energy source', 'tomato': 'red red red', 'cabbage': 'green ', 'cauli flower': 'good veg '}\n"
     ]
    }
   ],
   "source": [
    "ins = 'lista.append(\"hi\")'\n",
    "lista = [\"a\", \"b\"]\n",
    "eval(ins)\n",
    "print(lista)\n",
    "\n",
    "# uses hashing to store the keys and values\n",
    "print(\"-\" * 45)\n",
    "fruits = {\"orange\": \"sour in taste\", \"apple\": \"red in color\", \"banana\": \"energy source\"}\n",
    "fr_keys = list(fruits.keys())\n",
    "print(fr_keys)\n",
    "fruits[\"tomato\"] = \"red red red\"\n",
    "print(\"-\" * 45)\n",
    "\n",
    "print(fruits)\n",
    "print(\"-\" * 45)\n",
    "\n",
    "print(list(fruits.items()))\n",
    "print(\"-\" * 45)\n",
    "\n",
    "myList = [\"a\", \"b\", \"c\"]\n",
    "newStr = ''\n",
    "for f in myList:\n",
    "    newStr = \"_\".join(myList)\n",
    "\n",
    "print(newStr)\n",
    "print(\"-\" * 45)\n",
    "veg = {\"cabbage\": \"green \", \"cauli flower\": \"good veg \"}\n",
    "fruits.update(veg)\n",
    "print(fruits)\n",
    "print(\"-\" * 45)\n",
    "nice_nasty = fruits.copy()\n",
    "print(nice_nasty)\n"
   ]
  },
  {
   "cell_type": "code",
   "execution_count": 4,
   "metadata": {},
   "outputs": [
    {
     "name": "stdout",
     "output_type": "stream",
     "text": [
      "[\"'Twas brillig, and the slithy toves\\n\", '\\n', 'Did gyre and gimble in the wabe;\\n', '\\n', 'All mimsy were the borogoves,\\n', '\\n', 'And the mome raths outgrabe.\\n', '\\n', '\\n', '\\n', '\"Beware the Jabberwock, my son!\\n', '\\n', 'The jaws that bite, the claws that catch!\\n', '\\n', 'Beware the Jubjub bird, and shun\\n', '\\n', 'The frumious Bandersnatch!\\n', '\\n', '\"\\n', '\\n', 'He took his vorpal sword in hand:\\n', '\\n', 'Long time the manxome foe he sought,\\n', '\\n', 'So rested he by the Tumtum tree,\\n', '\\n', 'And stood a while in thought.\\n', '\\n', '\\n', '\\n', 'And, as in uffish thought he stood,\\n', '\\n', 'The Jabberwock, with eyes of flame,\\n', '\\n', 'Came whiffling through the tulgey wood,\\n', '\\n', 'And burbled as it came!\\n', '\\n', '\\n', '\\n', 'One two! One two! And through and through\\n', '\\n', 'The vorpal blade went snicker-snack!\\n', '\\n', 'He left it dead, and with its head\\n', '\\n', 'He went galumphing back.\\n', '\\n', '\\n', '\\n', '\"And hast thou slain the Jabberwock?\\n', '\\n', 'Come to my arms, my beamish boy!\"\\n', '\\n', '\"Oh frabjous day! Callooh! Callay!\"\\n', '\\n', 'He chortled in his joy.\\n', '\\n', '\\n', '\\n', \"'Twas brillig, and the slithy toves\\n\", '\\n', 'Did gyre and gimble in the wabe:\\n', '\\n', 'All mimsy were the borogoves,\\n', '\\n', 'And the mome raths outgrabe.\\n', '\\n']\n",
      "\n",
      "And the mome raths outgrabe.\n",
      "\n",
      "All mimsy were the borogoves,\n",
      "\n",
      "Did gyre and gimble in the wabe:\n",
      "\n",
      "'Twas brillig, and the slithy toves\n",
      "\n",
      "\n",
      "\n",
      "He chortled in his joy.\n",
      "\n",
      "\"Oh frabjous day! Callooh! Callay!\"\n",
      "\n",
      "Come to my arms, my beamish boy!\"\n",
      "\n",
      "\"And hast thou slain the Jabberwock?\n",
      "\n",
      "\n",
      "\n",
      "He went galumphing back.\n",
      "\n",
      "He left it dead, and with its head\n",
      "\n",
      "The vorpal blade went snicker-snack!\n",
      "\n",
      "One two! One two! And through and through\n",
      "\n",
      "\n",
      "\n",
      "And burbled as it came!\n",
      "\n",
      "Came whiffling through the tulgey wood,\n",
      "\n",
      "The Jabberwock, with eyes of flame,\n",
      "\n",
      "And, as in uffish thought he stood,\n",
      "\n",
      "\n",
      "\n",
      "And stood a while in thought.\n",
      "\n",
      "So rested he by the Tumtum tree,\n",
      "\n",
      "Long time the manxome foe he sought,\n",
      "\n",
      "He took his vorpal sword in hand:\n",
      "\n",
      "\"\n",
      "\n",
      "The frumious Bandersnatch!\n",
      "\n",
      "Beware the Jubjub bird, and shun\n",
      "\n",
      "The jaws that bite, the claws that catch!\n",
      "\n",
      "\"Beware the Jabberwock, my son!\n",
      "\n",
      "\n",
      "\n",
      "And the mome raths outgrabe.\n",
      "\n",
      "All mimsy were the borogoves,\n",
      "\n",
      "Did gyre and gimble in the wabe;\n",
      "\n",
      "'Twas brillig, and the slithy toves\n"
     ]
    }
   ],
   "source": [
    "# reading\n",
    "'''\n",
    "jabber=open(\"G:\\dd.txt\",'r')  # r for read mode , need not use it ; also if u put it in working directory, u can simply name it\n",
    "for line in jabber:\n",
    "    if \"jabberwock\" in line.lower():\n",
    "        print(line,end='') # end to eradicate any further unneccessary spacing\n",
    "\n",
    "jabber.close()\n",
    "'''\n",
    "# the following uses with , which auto cleans the stuff and no chance of corrupting the file\n",
    "'''\n",
    "with open(\"G:\\dd.txt\",'r') as jabber:\n",
    "    for line in jabber:\n",
    "        if \"JAB\" in line.upper():\n",
    "            print(line,end=\"\")\n",
    "\n",
    "'''\n",
    "'''\n",
    "with open(\"G:\\dd.txt\",'r') as jabber:\n",
    "    line = jabber.readline()\n",
    "    while line:   # while cont till there's no more line to read, more similar to other prog langs\n",
    "        print(line, end='')\n",
    "        line=jabber.readline()\n",
    "\n",
    "'''\n",
    "\n",
    "with open(\"G:\\dd.txt\",'r') as jabber:\n",
    "    lines = jabber.readlines()       # created a list\n",
    "print(lines)\n",
    "\n",
    "for line in lines[::-1]:\n",
    "    print(line, end=\"\")\n",
    "\n",
    "# readlines return a single line as list of strings\n",
    "# read return thr entire file as string\n"
   ]
  },
  {
   "cell_type": "code",
   "execution_count": 5,
   "metadata": {},
   "outputs": [
    {
     "data": {
      "text/plain": [
       "'\\nwith open(\"imelda.txt\",\\'r\\') as imelda_file:\\n    contents=imelda_file.readline()\\nimelda=eval(contents)\\nprint(imelda)\\ntitle,artist,year,tracks=imelda\\nprint(title)\\nprint(artist)\\nprint(year)\\n\\n'"
      ]
     },
     "execution_count": 5,
     "metadata": {},
     "output_type": "execute_result"
    }
   ],
   "source": [
    "'''\n",
    "cities=[\"Muzaffarpur\",\"Delhi\",\"Mumbai\",\"jammu\"]\n",
    "\n",
    "with open(\"cities.txt\",'w') as city_file:\n",
    "    for city in cities:\n",
    "        print(city, file=city_file, flush=True) # do not use spaces bef and after equal\n",
    "        #data is written to a buffer and then ....\n",
    "'''\n",
    "\n",
    "\n",
    "\n",
    "'''\n",
    "cities=[]\n",
    "\n",
    "with open(\"cities.txt\") as city_file:\n",
    "    for city in city_file:\n",
    "        cities.append(city.strip(\"\\n\"))  # append the contents  of file in the list\n",
    "\n",
    "print(cities)\n",
    "'''\n",
    "'''\n",
    "imelda= \"More mayhem\",\"Imelds May\", \"2011\",(\n",
    "    (1,\"pulling the rug\"),(2,\"psycho\"))\n",
    "with open(\"imelda.txt\",'w') as imelda_file:\n",
    "    print(imelda,file=imelda_file)\n",
    "\n",
    "'''\n",
    "'''\n",
    "with open(\"imelda.txt\",'r') as imelda_file:\n",
    "    contents=imelda_file.readline()\n",
    "imelda=eval(contents)\n",
    "print(imelda)\n",
    "title,artist,year,tracks=imelda\n",
    "print(title)\n",
    "print(artist)\n",
    "print(year)\n",
    "\n",
    "'''"
   ]
  },
  {
   "cell_type": "code",
   "execution_count": 6,
   "metadata": {},
   "outputs": [
    {
     "name": "stdout",
     "output_type": "stream",
     "text": [
      "{'horse', 'cow', 'sheep', 'goat'}\n",
      "---------------------------------------------\n",
      "{0, 32, 2, 34, 4, 36, 6, 38, 8, 10, 12, 14, 16, 18, 20, 22, 24, 26, 28, 30}\n",
      "{0, 2, 4, 6, 8, 9, 10, 12, 14, 16, 18, 20, 22, 24, 25, 26, 28, 30, 32, 34, 36, 38}\n",
      "---------------------------------------------\n",
      "{16, 4}\n",
      "---------------------------------------------\n",
      "[23, 43, 67, 78, 555]\n",
      "---------------------------------------------\n",
      "{0, 32, 2, 34, 4, 36, 6, 38, 8, 10, 12, 14, 16, 18, 20, 22, 24, 26, 28, 30}\n",
      "---------------------------------------------\n",
      "None\n",
      "---------------------------------------------\n",
      "{0, 2, 6, 8, 9, 10, 12, 14, 18, 20, 22, 24, 25, 26, 28, 30, 32, 34, 36, 38}\n",
      "---------------------------------------------\n",
      "{16, 9, 25}\n",
      "shit\n",
      "frozenset({0, 2, 4, 6, 8, 10, 12, 14, 16, 18, 20, 22, 24, 26, 28, 30, 32, 34, 36, 38, 40, 42, 44, 46, 48, 50, 52, 54, 56, 58, 60, 62, 64, 66, 68, 70, 72, 74, 76, 78, 80, 82, 84, 86, 88, 90, 92, 94, 96, 98})\n"
     ]
    }
   ],
   "source": [
    "# used to clean up data\n",
    "farm_anima = {\"sheep\", \"horse\"}\n",
    "farm_anima.add(\"goat\")\n",
    "farm_anima.add(\"cow\")\n",
    "# unordered lists\n",
    "print(farm_anima)\n",
    "empty_set = set()\n",
    "even = set(range(0, 40, 2))\n",
    "print(\"---\" * 15)\n",
    "print(even)\n",
    "sq_tuple = (4, 9, 16, 25)\n",
    "sq = set(sq_tuple)\n",
    "print(even.union(sq))\n",
    "print(\"---\" * 15)\n",
    "print(even.intersection(sq))\n",
    "print(\"---\" * 15)\n",
    "even_sec = {43, 67, 23, 78, 555}\n",
    "print(sorted(even_sec))\n",
    "print(\"---\" * 15)\n",
    "print(even.difference(even_sec))\n",
    "print(\"---\" * 15)\n",
    "print(even.difference_update(even_sec))\n",
    "print(\"---\" * 15)\n",
    "print(even.symmetric_difference(sq))\n",
    "print(\"---\" * 15)\n",
    "sq.discard(4)  # discard doesnt raise an error\n",
    "print(sq)\n",
    "# sq.remove(4)   # remove does\n",
    "if (sq.issubset(even)):\n",
    "    print(\"yeah\")\n",
    "else:\n",
    "    print(\"shit\")\n",
    "\n",
    "even = frozenset(range(0, 100, 2))  # is immutable\n",
    "print(even)\n"
   ]
  },
  {
   "cell_type": "code",
   "execution_count": 7,
   "metadata": {},
   "outputs": [
    {
     "name": "stdout",
     "output_type": "stream",
     "text": [
      "sour\n"
     ]
    }
   ],
   "source": [
    "import shelve\n",
    "# auto creates a database\n",
    "with shelve.open('ShelveTest') as fruit:\n",
    "    fruit['orange'] = \"sour\"\n",
    "    fruit['apple'] = \"sweet\"\n",
    "    fruit['banana'] = \"yellow\"\n",
    "    fruit['pine'] = \"tasty\"\n",
    "\n",
    "    print(fruit['orange'])\n",
    "\n",
    "# if we want to close shelve manually , then remove with\n",
    "# fruit=shelve.open(iiii)\n",
    "#write whatever u want\n",
    "\n",
    "#fruit.close()"
   ]
  },
  {
   "cell_type": "code",
   "execution_count": 8,
   "metadata": {},
   "outputs": [
    {
     "name": "stdout",
     "output_type": "stream",
     "text": [
      "sour\n"
     ]
    }
   ],
   "source": [
    "import shelve\n",
    "# auto creates a database\n",
    "with shelve.open('ShelveTest2') as fruit:\n",
    "    fruit['orange'] = \"sour\"\n",
    "    fruit['apple'] = \"sweet\"\n",
    "    fruit['banana'] = \"yellow\"\n",
    "    fruit['pine'] = \"tasty\"\n",
    "\n",
    "    print(fruit['orange'])\n",
    "\n"
   ]
  },
  {
   "cell_type": "code",
   "execution_count": null,
   "metadata": {},
   "outputs": [],
   "source": []
  }
 ],
 "metadata": {
  "kernelspec": {
   "display_name": "Python 3",
   "language": "python",
   "name": "python3"
  },
  "language_info": {
   "codemirror_mode": {
    "name": "ipython",
    "version": 3
   },
   "file_extension": ".py",
   "mimetype": "text/x-python",
   "name": "python",
   "nbconvert_exporter": "python",
   "pygments_lexer": "ipython3",
   "version": "3.6.6"
  }
 },
 "nbformat": 4,
 "nbformat_minor": 2
}
